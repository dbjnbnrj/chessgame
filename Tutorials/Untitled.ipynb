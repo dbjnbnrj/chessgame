{
 "cells": [
  {
   "cell_type": "code",
   "execution_count": 15,
   "metadata": {
    "collapsed": false,
    "scrolled": true
   },
   "outputs": [
    {
     "name": "stdout",
     "output_type": "stream",
     "text": [
      "... loading data\n",
      "... building the model\n",
      ".... training\n",
      "epoch 1, minibatch: 500/2500, validation error 90.090000 %\n",
      "epoch 1, minibatch: 500/2500, test error of best model 0.000000 %\n",
      "epoch 1, minibatch: 1000/2500, validation error 90.090000 %\n",
      "Optimization complete, Best validation of 90.090000 %obtained in iteration 500, with test performance 0.000000 %\n",
      " The code ran for 0.04m\n"
     ]
    }
   ],
   "source": []
  }
 ],
 "metadata": {
  "kernelspec": {
   "display_name": "Python 2",
   "language": "python",
   "name": "python2"
  },
  "language_info": {
   "codemirror_mode": {
    "name": "ipython",
    "version": 2
   },
   "file_extension": ".py",
   "mimetype": "text/x-python",
   "name": "python",
   "nbconvert_exporter": "python",
   "pygments_lexer": "ipython2",
   "version": "2.7.9"
  }
 },
 "nbformat": 4,
 "nbformat_minor": 0
}
